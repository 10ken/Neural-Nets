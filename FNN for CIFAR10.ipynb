{
 "cells": [
  {
   "cell_type": "code",
   "execution_count": 1,
   "metadata": {
    "colab": {
     "base_uri": "https://localhost:8080/",
     "height": 117,
     "referenced_widgets": [
      "dbc0a8815467421e944b0c4c2f7602d8",
      "1608fc26115141acbf9770e022a362b7",
      "30255b4ed2b946b7b0e3099031371f8c",
      "8b7c9870290346f1b86a213a954fa237",
      "e19879c71f6e43fe8132ec9ad57b6075",
      "98943dfabef748c4b8d7e05e2a914653",
      "7c503de69b7c4133a46156652fccb511",
      "61d3da3e2be5490e885fb194bb5ddb92"
     ]
    },
    "colab_type": "code",
    "executionInfo": {
     "elapsed": 10006,
     "status": "ok",
     "timestamp": 1590638096300,
     "user": {
      "displayName": "K",
      "photoUrl": "https://lh3.googleusercontent.com/a-/AOh14Gi4Evxpen4dhukEZUi5pS2MBVgY4QXj756SaRG3Qw=s64",
      "userId": "13534414774990915038"
     },
     "user_tz": 240
    },
    "id": "0YivcVh8Uf0T",
    "outputId": "dc50f6ab-5282-4553-cb1b-7bd13fd8d88b"
   },
   "outputs": [
    {
     "name": "stdout",
     "output_type": "stream",
     "text": [
      "Downloading https://www.cs.toronto.edu/~kriz/cifar-10-python.tar.gz to ./data/cifar-10-python.tar.gz\n"
     ]
    },
    {
     "data": {
      "application/vnd.jupyter.widget-view+json": {
       "model_id": "dbc0a8815467421e944b0c4c2f7602d8",
       "version_major": 2,
       "version_minor": 0
      },
      "text/plain": [
       "HBox(children=(FloatProgress(value=1.0, bar_style='info', max=1.0), HTML(value='')))"
      ]
     },
     "metadata": {
      "tags": []
     },
     "output_type": "display_data"
    },
    {
     "name": "stdout",
     "output_type": "stream",
     "text": [
      "Extracting ./data/cifar-10-python.tar.gz to ./data\n",
      "Files already downloaded and verified\n",
      "\n"
     ]
    }
   ],
   "source": [
    "import torch\n",
    "import torchvision\n",
    "import torchvision.transforms as transforms\n",
    "import matplotlib.pyplot as plt\n",
    "import numpy as np\n",
    "from sklearn.metrics import confusion_matrix\n",
    "import torch.nn as nn\n",
    "import torch.nn.functional as F\n",
    "from torch.autograd import Variable\n",
    "\n",
    "torch.manual_seed(999)\n",
    "\n",
    "\n",
    "######################################## \n",
    "\n",
    "\n",
    "#  Loading and normalizing CIFAR10\n",
    "\n",
    "transform = transforms.Compose([transforms.ToTensor(), \n",
    "     transforms.Normalize((0.5,0.5,0.5), (0.5,0.5,0.5)),\n",
    "     ])\n",
    "\n",
    "# .Compose() composes several transformations together\n",
    "# . ToTensor() convers images and np arrays into torch tensors\n",
    "# .Normalize()\n",
    "\n",
    "# Download CIFAR10 Dataset\n",
    "\n",
    "trainset = torchvision.datasets.CIFAR10(root='./data', train=True,\n",
    "                                        download=True, transform=transform)\n",
    "\n",
    "testset = torchvision.datasets.CIFAR10(root='./data', train=False,\n",
    "                                       download=True, transform=transform)\n",
    "\n",
    "\n",
    "######################################## \n",
    "\n"
   ]
  },
  {
   "cell_type": "code",
   "execution_count": 2,
   "metadata": {
    "colab": {
     "base_uri": "https://localhost:8080/",
     "height": 51
    },
    "colab_type": "code",
    "executionInfo": {
     "elapsed": 9927,
     "status": "ok",
     "timestamp": 1590638096302,
     "user": {
      "displayName": "K",
      "photoUrl": "https://lh3.googleusercontent.com/a-/AOh14Gi4Evxpen4dhukEZUi5pS2MBVgY4QXj756SaRG3Qw=s64",
      "userId": "13534414774990915038"
     },
     "user_tz": 240
    },
    "id": "58Rm8_vcTR51",
    "outputId": "5339c17d-fa2a-409f-a250-351804cf70c0"
   },
   "outputs": [
    {
     "name": "stdout",
     "output_type": "stream",
     "text": [
      "50000\n"
     ]
    },
    {
     "data": {
      "text/plain": [
       "10000"
      ]
     },
     "execution_count": 2,
     "metadata": {
      "tags": []
     },
     "output_type": "execute_result"
    }
   ],
   "source": [
    "print(len(trainset))\n",
    "len(testset)"
   ]
  },
  {
   "cell_type": "code",
   "execution_count": 0,
   "metadata": {
    "colab": {},
    "colab_type": "code",
    "id": "kvQhAn4_S9Pe"
   },
   "outputs": [],
   "source": [
    "batch_size = 100 # chosen\n",
    "n_iters = 20000 # 50,000 / batch_size = 5000 and 500 * 5=2500\n",
    "num_epochs = n_iters / (len(trainset)/batch_size)\n",
    "num_epochs = int(num_epochs)\n",
    "\n",
    "# Load Data\n",
    "trainloader = torch.utils.data.DataLoader(trainset, batch_size=batch_size,\n",
    "                                          shuffle=True, num_workers=2)\n",
    "testloader = torch.utils.data.DataLoader(testset, batch_size=batch_size,\n",
    "                                         shuffle=False, num_workers=2)\n",
    "\n",
    "classes = ('plane', 'car', 'bird', 'cat',\n",
    "           'deer', 'dog', 'frog', 'horse', 'ship', 'truck')\n"
   ]
  },
  {
   "cell_type": "code",
   "execution_count": 4,
   "metadata": {
    "colab": {
     "base_uri": "https://localhost:8080/",
     "height": 34
    },
    "colab_type": "code",
    "executionInfo": {
     "elapsed": 9884,
     "status": "ok",
     "timestamp": 1590638096306,
     "user": {
      "displayName": "K",
      "photoUrl": "https://lh3.googleusercontent.com/a-/AOh14Gi4Evxpen4dhukEZUi5pS2MBVgY4QXj756SaRG3Qw=s64",
      "userId": "13534414774990915038"
     },
     "user_tz": 240
    },
    "id": "USTEzxg1SdtX",
    "outputId": "5302efe3-7603-41ae-daa2-d6ee7e2e08ea"
   },
   "outputs": [
    {
     "data": {
      "text/plain": [
       "40"
      ]
     },
     "execution_count": 4,
     "metadata": {
      "tags": []
     },
     "output_type": "execute_result"
    }
   ],
   "source": [
    "num_epochs"
   ]
  },
  {
   "cell_type": "code",
   "execution_count": 5,
   "metadata": {
    "colab": {
     "base_uri": "https://localhost:8080/",
     "height": 286
    },
    "colab_type": "code",
    "executionInfo": {
     "elapsed": 10210,
     "status": "ok",
     "timestamp": 1590638096685,
     "user": {
      "displayName": "K",
      "photoUrl": "https://lh3.googleusercontent.com/a-/AOh14Gi4Evxpen4dhukEZUi5pS2MBVgY4QXj756SaRG3Qw=s64",
      "userId": "13534414774990915038"
     },
     "user_tz": 240
    },
    "id": "JZC-5InGXHy2",
    "outputId": "c2b0307a-cfd6-48e9-d507-83100c4bd52f"
   },
   "outputs": [
    {
     "data": {
      "image/png": "[encoded data removed]",
      "text/plain": [
       "<Figure size 432x288 with 1 Axes>"
      ]
     },
     "metadata": {
      "needs_background": "light",
      "tags": []
     },
     "output_type": "display_data"
    },
    {
     "name": "stdout",
     "output_type": "stream",
     "text": [
      "      deer       deer        cat       deer       deer      horse        dog       frog       bird       bird\n"
     ]
    }
   ],
   "source": [
    "# functions to show an image\n",
    "\n",
    "def imshow(img):\n",
    "    img = img / 2 + 0.5     # unnormalize\n",
    "    npimg = img.numpy()\n",
    "    plt.imshow(np.transpose(npimg, (1, 2, 0)))\n",
    "    plt.show()\n",
    "\n",
    "\n",
    "# get some random training images\n",
    "dataiter = iter(trainloader)\n",
    "images, labels = dataiter.next()\n",
    "\n",
    "# show images\n",
    "imshow(torchvision.utils.make_grid(images))\n",
    "# print labels\n",
    "print(' '.join('%10s' % classes[labels[j]] for j in range(10)))"
   ]
  },
  {
   "cell_type": "code",
   "execution_count": 6,
   "metadata": {
    "colab": {
     "base_uri": "https://localhost:8080/",
     "height": 51
    },
    "colab_type": "code",
    "executionInfo": {
     "elapsed": 10131,
     "status": "ok",
     "timestamp": 1590638096686,
     "user": {
      "displayName": "K",
      "photoUrl": "https://lh3.googleusercontent.com/a-/AOh14Gi4Evxpen4dhukEZUi5pS2MBVgY4QXj756SaRG3Qw=s64",
      "userId": "13534414774990915038"
     },
     "user_tz": 240
    },
    "id": "2C6x9crB0H1G",
    "outputId": "393d87ef-15e1-4c48-cc2e-d09b8ee59762"
   },
   "outputs": [
    {
     "name": "stdout",
     "output_type": "stream",
     "text": [
      "torch.Size([100, 3, 32, 32])\n"
     ]
    },
    {
     "data": {
      "text/plain": [
       "torch.Size([100])"
      ]
     },
     "execution_count": 6,
     "metadata": {
      "tags": []
     },
     "output_type": "execute_result"
    }
   ],
   "source": [
    "print(images.size())\n",
    "labels.size()"
   ]
  },
  {
   "cell_type": "code",
   "execution_count": 0,
   "metadata": {
    "colab": {},
    "colab_type": "code",
    "id": "AuxSjod_UM4Q"
   },
   "outputs": [],
   "source": [
    "class FNN(nn.Module):\n",
    "    def __init__(self, input_dim, hidden_dim, output_dim):\n",
    "        super(FNN, self).__init__()\n",
    "\n",
    "        # Linear Function\n",
    "        self.fc1 = nn.Linear(input_dim, hidden_dim) # has 2 params\n",
    "\n",
    "        # Non Linearity\n",
    "        self.relu = nn.ReLU()\n",
    "\n",
    "        # second linear funtion\n",
    "        self.fc2 = nn.Linear(hidden_dim, output_dim) # has 2 params\n",
    "    \n",
    "    def forward(self, x):\n",
    "#         print(\"x size is {}\".format(x.size()))\n",
    "\n",
    "        #Linear Function\n",
    "        out = self.fc1(x)\n",
    "\n",
    "        # Non Linearity\n",
    "        out = self.relu(out)\n",
    "\n",
    "        # Linear Function (read out)\n",
    "        out = self.fc2(out)\n",
    "\n",
    "        # print(\"Final size is {}\".format(out.size())\n",
    "        return out"
   ]
  },
  {
   "cell_type": "code",
   "execution_count": 0,
   "metadata": {
    "colab": {},
    "colab_type": "code",
    "id": "hak_S7b8WQU6"
   },
   "outputs": [],
   "source": [
    "# define the model parameters\n",
    "input_dim = 1024*3  # 32x32*3 image size = 1024 pixels * 3 channels\n",
    "output_dim = 10  # 10 classes (animals)\n",
    "hidden_dim = 500 # can be any number of neurons or non \n",
    "\n",
    "# model\n",
    "model = FNN(input_dim,hidden_dim, output_dim)"
   ]
  },
  {
   "cell_type": "code",
   "execution_count": 0,
   "metadata": {
    "colab": {},
    "colab_type": "code",
    "id": "NRchTOxeWhu4"
   },
   "outputs": [],
   "source": [
    "# define the loss criteria and Optimizer\n",
    "\n",
    "criterion = nn.CrossEntropyLoss() \n",
    "# Cross Entropy is good for classification\n",
    "# its required to compute the loss btn softmax outputs and binary labels\n",
    "\n",
    "optimizer = torch.optim.SGD(model.parameters(), lr=0.1)"
   ]
  },
  {
   "cell_type": "code",
   "execution_count": 10,
   "metadata": {
    "colab": {
     "base_uri": "https://localhost:8080/",
     "height": 34
    },
    "colab_type": "code",
    "executionInfo": {
     "elapsed": 10035,
     "status": "ok",
     "timestamp": 1590638096697,
     "user": {
      "displayName": "K",
      "photoUrl": "https://lh3.googleusercontent.com/a-/AOh14Gi4Evxpen4dhukEZUi5pS2MBVgY4QXj756SaRG3Qw=s64",
      "userId": "13534414774990915038"
     },
     "user_tz": 240
    },
    "id": "vctK_c14WwKL",
    "outputId": "53ff9d19-fae0-446a-b6de-9c8059a9f861"
   },
   "outputs": [
    {
     "name": "stdout",
     "output_type": "stream",
     "text": [
      "4\n"
     ]
    }
   ],
   "source": [
    "# display the number of params we have\n",
    "  # 2 linear layers of the form Y = AX + B\n",
    "    # Each linear layer has 2 params, A and B \n",
    "      # therfore we have A_1, A_2, B_1, and B_2\n",
    "print(len(list(model.parameters())))"
   ]
  },
  {
   "cell_type": "code",
   "execution_count": 11,
   "metadata": {
    "colab": {
     "base_uri": "https://localhost:8080/",
     "height": 34
    },
    "colab_type": "code",
    "executionInfo": {
     "elapsed": 9971,
     "status": "ok",
     "timestamp": 1590638096698,
     "user": {
      "displayName": "K",
      "photoUrl": "https://lh3.googleusercontent.com/a-/AOh14Gi4Evxpen4dhukEZUi5pS2MBVgY4QXj756SaRG3Qw=s64",
      "userId": "13534414774990915038"
     },
     "user_tz": 240
    },
    "id": "0fpW8Cs7YJuJ",
    "outputId": "b733e685-a275-49fc-bd27-a4e26d300eb1"
   },
   "outputs": [
    {
     "name": "stdout",
     "output_type": "stream",
     "text": [
      "torch.Size([500, 3072])\n"
     ]
    }
   ],
   "source": [
    "# fc1 slope params\n",
    "print(list(model.parameters())[0].size())\n",
    "\n",
    "# the first linear layer parameters for A_1 has size= [hidden_layer, input_dim]\n",
    "  # hidden_layer = 100 and input_dim = 32 x 32"
   ]
  },
  {
   "cell_type": "code",
   "execution_count": 12,
   "metadata": {
    "colab": {
     "base_uri": "https://localhost:8080/",
     "height": 34
    },
    "colab_type": "code",
    "executionInfo": {
     "elapsed": 10110,
     "status": "ok",
     "timestamp": 1590638096867,
     "user": {
      "displayName": "K",
      "photoUrl": "https://lh3.googleusercontent.com/a-/AOh14Gi4Evxpen4dhukEZUi5pS2MBVgY4QXj756SaRG3Qw=s64",
      "userId": "13534414774990915038"
     },
     "user_tz": 240
    },
    "id": "Z8PhpYCYYv-U",
    "outputId": "35c96e28-aab7-402c-8e16-d9d380b09c44"
   },
   "outputs": [
    {
     "name": "stdout",
     "output_type": "stream",
     "text": [
      "torch.Size([500])\n"
     ]
    }
   ],
   "source": [
    "# fc1 bias params\n",
    "print(list(model.parameters())[1].size())\n",
    "\n",
    "# this is the first linear layer params for bias B_1 with the size 100\n",
    "  # since the dim of hidden layers is 100\n"
   ]
  },
  {
   "cell_type": "code",
   "execution_count": 13,
   "metadata": {
    "colab": {
     "base_uri": "https://localhost:8080/",
     "height": 34
    },
    "colab_type": "code",
    "executionInfo": {
     "elapsed": 10087,
     "status": "ok",
     "timestamp": 1590638096871,
     "user": {
      "displayName": "K",
      "photoUrl": "https://lh3.googleusercontent.com/a-/AOh14Gi4Evxpen4dhukEZUi5pS2MBVgY4QXj756SaRG3Qw=s64",
      "userId": "13534414774990915038"
     },
     "user_tz": 240
    },
    "id": "keqfWOSpZWgq",
    "outputId": "21a3a15c-c070-47f4-89bc-8476222efd86"
   },
   "outputs": [
    {
     "name": "stdout",
     "output_type": "stream",
     "text": [
      "torch.Size([10, 500])\n"
     ]
    }
   ],
   "source": [
    "# fc2 slope params\n",
    "print(list(model.parameters())[2].size())\n",
    "\n",
    "# the second linear layer has size 10 x 100 for A_2. \n",
    "# the next size is the output size which is 10\n",
    "# the input size from the previous operation is 100 (hidden layers)"
   ]
  },
  {
   "cell_type": "code",
   "execution_count": 14,
   "metadata": {
    "colab": {
     "base_uri": "https://localhost:8080/",
     "height": 34
    },
    "colab_type": "code",
    "executionInfo": {
     "elapsed": 10062,
     "status": "ok",
     "timestamp": 1590638096873,
     "user": {
      "displayName": "K",
      "photoUrl": "https://lh3.googleusercontent.com/a-/AOh14Gi4Evxpen4dhukEZUi5pS2MBVgY4QXj756SaRG3Qw=s64",
      "userId": "13534414774990915038"
     },
     "user_tz": 240
    },
    "id": "R2VqgsQXZ45r",
    "outputId": "62eba2e9-2dee-4641-eb9d-4bf00b7905b0"
   },
   "outputs": [
    {
     "name": "stdout",
     "output_type": "stream",
     "text": [
      "torch.Size([10])\n"
     ]
    }
   ],
   "source": [
    "# f2 bias params\n",
    "print(list(model.parameters())[3].size())\n",
    "\n",
    "# the second linear layer bias has size 10 since the output dim is 10\n",
    "\n",
    "# and so the final output size will be 10x1\n"
   ]
  },
  {
   "cell_type": "code",
   "execution_count": 15,
   "metadata": {
    "colab": {
     "base_uri": "https://localhost:8080/",
     "height": 357
    },
    "colab_type": "code",
    "executionInfo": {
     "elapsed": 890134,
     "status": "ok",
     "timestamp": 1590638976985,
     "user": {
      "displayName": "K",
      "photoUrl": "https://lh3.googleusercontent.com/a-/AOh14Gi4Evxpen4dhukEZUi5pS2MBVgY4QXj756SaRG3Qw=s64",
      "userId": "13534414774990915038"
     },
     "user_tz": 240
    },
    "id": "6QJMB2IhaaTv",
    "outputId": "31f23118-6064-4dbd-e6e4-0f11a8707c22",
    "scrolled": true
   },
   "outputs": [
    {
     "name": "stdout",
     "output_type": "stream",
     "text": [
      "Iter 1000 | Loss: 1.5735968351364136 | Accuracy: 52.126%\n",
      "Iter 2000 | Loss: 1.669571042060852 | Accuracy: 58.424%\n",
      "Iter 3000 | Loss: 1.3162963390350342 | Accuracy: 59.809999999999995%\n",
      "Iter 4000 | Loss: 1.0127733945846558 | Accuracy: 64.828%\n",
      "Iter 5000 | Loss: 1.075040340423584 | Accuracy: 64.474%\n",
      "Iter 6000 | Loss: 0.8784406185150146 | Accuracy: 69.992%\n",
      "Iter 7000 | Loss: 1.0523046255111694 | Accuracy: 71.942%\n",
      "Iter 8000 | Loss: 0.8451917171478271 | Accuracy: 75.762%\n",
      "Iter 9000 | Loss: 0.5768898129463196 | Accuracy: 77.05%\n",
      "Iter 10000 | Loss: 0.5818859338760376 | Accuracy: 81.112%\n",
      "Iter 11000 | Loss: 0.8356943726539612 | Accuracy: 77.51400000000001%\n",
      "Iter 12000 | Loss: 0.5270522832870483 | Accuracy: 84.272%\n",
      "Iter 13000 | Loss: 0.5427148938179016 | Accuracy: 85.684%\n",
      "Iter 14000 | Loss: 0.45732730627059937 | Accuracy: 87.548%\n",
      "Iter 15000 | Loss: 0.4219001829624176 | Accuracy: 87.39%\n",
      "Iter 16000 | Loss: 0.41074123978614807 | Accuracy: 90.59%\n",
      "Iter 17000 | Loss: 0.5625070929527283 | Accuracy: 84.352%\n",
      "Iter 18000 | Loss: 0.30781328678131104 | Accuracy: 88.524%\n",
      "Iter 19000 | Loss: 0.5065712332725525 | Accuracy: 88.384%\n",
      "Iter 20000 | Loss: 0.24786542356014252 | Accuracy: 91.502%\n"
     ]
    }
   ],
   "source": [
    "iteration = 1\n",
    "\n",
    "for epoch in range(num_epochs):\n",
    "    for i, (images, labels) in enumerate(trainloader):\n",
    "\n",
    "        # load images with gradient accumulation capabilities\n",
    "        images = Variable(images.view(-1, 3*32*32))\n",
    "\n",
    "\n",
    "        labels = Variable(labels)\n",
    "\n",
    "        \n",
    "        # clear gradients from previous iters w.r.t params\n",
    "        optimizer.zero_grad()\n",
    "\n",
    "        # forward pass to get outputs\n",
    "        outputs = model(images)\n",
    "\n",
    "        # Calculate loss\n",
    "        loss = criterion(outputs, labels)\n",
    "\n",
    "        # getting gradients w.r.t params\n",
    "        loss.backward()\n",
    "\n",
    "        # updating params\n",
    "        optimizer.step()\n",
    "\n",
    "        iteration += 1\n",
    "\n",
    "        # report every 1000 iters\n",
    "        if iteration % 1000 == 0:\n",
    "          correct = 0\n",
    "          total = 0\n",
    "          \n",
    "          for images, labels in trainloader:\n",
    "            images = Variable(images.view(-1, 3*32*32))\n",
    "            labels = Variable(labels)\n",
    "              \n",
    "            outputs = model(images)\n",
    "          \n",
    "            _, predict = torch.max(outputs.data,1)\n",
    "\n",
    "            \n",
    "            # total number of labels\n",
    "            total += labels.size(0)\n",
    "            \n",
    "            # correct predictions\n",
    "            correct += (predict == labels).sum()\n",
    "\n",
    "            \n",
    "          accuracy = int(correct) / int(total) * 100\n",
    "            \n",
    "          print('Iter {} | Loss: {} | Accuracy: {}%'.format(iteration, \n",
    "                                                             loss.item(),\n",
    "                                                            accuracy))\n",
    "      "
   ]
  },
  {
   "cell_type": "code",
   "execution_count": 20,
   "metadata": {
    "colab": {
     "base_uri": "https://localhost:8080/",
     "height": 34
    },
    "colab_type": "code",
    "executionInfo": {
     "elapsed": 453,
     "status": "ok",
     "timestamp": 1590638991645,
     "user": {
      "displayName": "K",
      "photoUrl": "https://lh3.googleusercontent.com/a-/AOh14Gi4Evxpen4dhukEZUi5pS2MBVgY4QXj756SaRG3Qw=s64",
      "userId": "13534414774990915038"
     },
     "user_tz": 240
    },
    "id": "aKrdqfBrvM45",
    "outputId": "f54ef587-d465-48e5-ff8b-9b3af581258d"
   },
   "outputs": [
    {
     "data": {
      "text/plain": [
       "<All keys matched successfully>"
      ]
     },
     "execution_count": 20,
     "metadata": {
      "tags": []
     },
     "output_type": "execute_result"
    }
   ],
   "source": [
    "# Save the model\n",
    "PATH = './cifar_fnn_model.pth'\n",
    "torch.save(model.state_dict(), PATH)\n",
    "\n",
    "# Load the model\n",
    "model = FNN(input_dim,hidden_dim, output_dim)\n",
    "model.load_state_dict(torch.load(PATH))\n"
   ]
  },
  {
   "cell_type": "code",
   "execution_count": 21,
   "metadata": {
    "colab": {
     "base_uri": "https://localhost:8080/",
     "height": 102
    },
    "colab_type": "code",
    "executionInfo": {
     "elapsed": 693,
     "status": "ok",
     "timestamp": 1590638994479,
     "user": {
      "displayName": "K",
      "photoUrl": "https://lh3.googleusercontent.com/a-/AOh14Gi4Evxpen4dhukEZUi5pS2MBVgY4QXj756SaRG3Qw=s64",
      "userId": "13534414774990915038"
     },
     "user_tz": 240
    },
    "id": "DYx4QGV8wcbM",
    "outputId": "33fefe13-d1b0-4f3d-b461-8340d82f3752"
   },
   "outputs": [
    {
     "data": {
      "text/plain": [
       "FNN(\n",
       "  (fc1): Linear(in_features=3072, out_features=500, bias=True)\n",
       "  (relu): ReLU()\n",
       "  (fc2): Linear(in_features=500, out_features=10, bias=True)\n",
       ")"
      ]
     },
     "execution_count": 21,
     "metadata": {
      "tags": []
     },
     "output_type": "execute_result"
    }
   ],
   "source": [
    "model"
   ]
  },
  {
   "cell_type": "code",
   "execution_count": 18,
   "metadata": {
    "colab": {
     "base_uri": "https://localhost:8080/",
     "height": 34
    },
    "colab_type": "code",
    "executionInfo": {
     "elapsed": 892618,
     "status": "ok",
     "timestamp": 1590638979575,
     "user": {
      "displayName": "K",
      "photoUrl": "https://lh3.googleusercontent.com/a-/AOh14Gi4Evxpen4dhukEZUi5pS2MBVgY4QXj756SaRG3Qw=s64",
      "userId": "13534414774990915038"
     },
     "user_tz": 240
    },
    "id": "mle4uigQIyut",
    "outputId": "a82899ef-6f0a-4043-c408-c80ea77e4df5"
   },
   "outputs": [
    {
     "data": {
      "text/plain": [
       "85.05333333333334"
      ]
     },
     "execution_count": 18,
     "metadata": {
      "tags": []
     },
     "output_type": "execute_result"
    }
   ],
   "source": [
    "# Validation \n",
    "\n",
    "for images, labels in testloader:\n",
    "    images = images.reshape([100,3*1024])\n",
    "    labels = Variable(labels)\n",
    "\n",
    "    outputs = model(images)\n",
    "\n",
    "    _, predict = torch.max(outputs.data,1)\n",
    "\n",
    "\n",
    "    # total number of labels\n",
    "    total += labels.size(0)\n",
    "\n",
    "    # correct predictions\n",
    "    correct += (predict == labels).sum()\n",
    "\n",
    "  # print('predict shape {}, labels shape {}, Correct Num {}'.format(predict.shape,\n",
    "  #                                                                  labels.shape,\n",
    "  #                                                                 correct))\n",
    "\n",
    "accuracy = int(correct) / int(total) * 100\n",
    "\n",
    "accuracy"
   ]
  },
  {
   "cell_type": "code",
   "execution_count": 19,
   "metadata": {
    "colab": {
     "base_uri": "https://localhost:8080/",
     "height": 286
    },
    "colab_type": "code",
    "executionInfo": {
     "elapsed": 892976,
     "status": "ok",
     "timestamp": 1590638979967,
     "user": {
      "displayName": "K",
      "photoUrl": "https://lh3.googleusercontent.com/a-/AOh14Gi4Evxpen4dhukEZUi5pS2MBVgY4QXj756SaRG3Qw=s64",
      "userId": "13534414774990915038"
     },
     "user_tz": 240
    },
    "id": "XElwiw-IoEgD",
    "outputId": "630dd6a6-fabe-4e71-b9cb-34afd5eb663d"
   },
   "outputs": [
    {
     "data": {
      "image/png": "[encoded data removed]",
      "text/plain": [
       "<Figure size 432x288 with 1 Axes>"
      ]
     },
     "metadata": {
      "needs_background": "light",
      "tags": []
     },
     "output_type": "display_data"
    },
    {
     "name": "stdout",
     "output_type": "stream",
     "text": [
      "       cat       ship       ship      plane       frog       frog        car       frog        cat        car\n"
     ]
    }
   ],
   "source": [
    "dataiter = iter(testloader)\n",
    "images, labels = dataiter.next()\n",
    "\n",
    "# show images\n",
    "imshow(torchvision.utils.make_grid(images))\n",
    "# print labels\n",
    "print(' '.join('%10s' % classes[labels[j]] for j in range(10)))"
   ]
  }
 ],
 "metadata": {
  "colab": {
   "collapsed_sections": [],
   "name": "FNN for CIFAR10.ipynb",
   "provenance": []
  },
  "kernelspec": {
   "display_name": "Python 3",
   "language": "python",
   "name": "python3"
  },
  "language_info": {
   "codemirror_mode": {
    "name": "ipython",
    "version": 3
   },
   "file_extension": ".py",
   "mimetype": "text/x-python",
   "name": "python",
   "nbconvert_exporter": "python",
   "pygments_lexer": "ipython3",
   "version": "3.7.4"
  },
  "widgets": {
   "application/vnd.jupyter.widget-state+json": {
    "1608fc26115141acbf9770e022a362b7": {
     "model_module": "@jupyter-widgets/base",
     "model_name": "LayoutModel",
     "state": {
      "_model_module": "@jupyter-widgets/base",
      "_model_module_version": "1.2.0",
      "_model_name": "LayoutModel",
      "_view_count": null,
      "_view_module": "@jupyter-widgets/base",
      "_view_module_version": "1.2.0",
      "_view_name": "LayoutView",
      "align_content": null,
      "align_items": null,
      "align_self": null,
      "border": null,
      "bottom": null,
      "display": null,
      "flex": null,
      "flex_flow": null,
      "grid_area": null,
      "grid_auto_columns": null,
      "grid_auto_flow": null,
      "grid_auto_rows": null,
      "grid_column": null,
      "grid_gap": null,
      "grid_row": null,
      "grid_template_areas": null,
      "grid_template_columns": null,
      "grid_template_rows": null,
      "height": null,
      "justify_content": null,
      "justify_items": null,
      "left": null,
      "margin": null,
      "max_height": null,
      "max_width": null,
      "min_height": null,
      "min_width": null,
      "object_fit": null,
      "object_position": null,
      "order": null,
      "overflow": null,
      "overflow_x": null,
      "overflow_y": null,
      "padding": null,
      "right": null,
      "top": null,
      "visibility": null,
      "width": null
     }
    },
    "30255b4ed2b946b7b0e3099031371f8c": {
     "model_module": "@jupyter-widgets/controls",
     "model_name": "FloatProgressModel",
     "state": {
      "_dom_classes": [],
      "_model_module": "@jupyter-widgets/controls",
      "_model_module_version": "1.5.0",
      "_model_name": "FloatProgressModel",
      "_view_count": null,
      "_view_module": "@jupyter-widgets/controls",
      "_view_module_version": "1.5.0",
      "_view_name": "ProgressView",
      "bar_style": "success",
      "description": "",
      "description_tooltip": null,
      "layout": "IPY_MODEL_98943dfabef748c4b8d7e05e2a914653",
      "max": 1,
      "min": 0,
      "orientation": "horizontal",
      "style": "IPY_MODEL_e19879c71f6e43fe8132ec9ad57b6075",
      "value": 1
     }
    },
    "61d3da3e2be5490e885fb194bb5ddb92": {
     "model_module": "@jupyter-widgets/base",
     "model_name": "LayoutModel",
     "state": {
      "_model_module": "@jupyter-widgets/base",
      "_model_module_version": "1.2.0",
      "_model_name": "LayoutModel",
      "_view_count": null,
      "_view_module": "@jupyter-widgets/base",
      "_view_module_version": "1.2.0",
      "_view_name": "LayoutView",
      "align_content": null,
      "align_items": null,
      "align_self": null,
      "border": null,
      "bottom": null,
      "display": null,
      "flex": null,
      "flex_flow": null,
      "grid_area": null,
      "grid_auto_columns": null,
      "grid_auto_flow": null,
      "grid_auto_rows": null,
      "grid_column": null,
      "grid_gap": null,
      "grid_row": null,
      "grid_template_areas": null,
      "grid_template_columns": null,
      "grid_template_rows": null,
      "height": null,
      "justify_content": null,
      "justify_items": null,
      "left": null,
      "margin": null,
      "max_height": null,
      "max_width": null,
      "min_height": null,
      "min_width": null,
      "object_fit": null,
      "object_position": null,
      "order": null,
      "overflow": null,
      "overflow_x": null,
      "overflow_y": null,
      "padding": null,
      "right": null,
      "top": null,
      "visibility": null,
      "width": null
     }
    },
    "7c503de69b7c4133a46156652fccb511": {
     "model_module": "@jupyter-widgets/controls",
     "model_name": "DescriptionStyleModel",
     "state": {
      "_model_module": "@jupyter-widgets/controls",
      "_model_module_version": "1.5.0",
      "_model_name": "DescriptionStyleModel",
      "_view_count": null,
      "_view_module": "@jupyter-widgets/base",
      "_view_module_version": "1.2.0",
      "_view_name": "StyleView",
      "description_width": ""
     }
    },
    "8b7c9870290346f1b86a213a954fa237": {
     "model_module": "@jupyter-widgets/controls",
     "model_name": "HTMLModel",
     "state": {
      "_dom_classes": [],
      "_model_module": "@jupyter-widgets/controls",
      "_model_module_version": "1.5.0",
      "_model_name": "HTMLModel",
      "_view_count": null,
      "_view_module": "@jupyter-widgets/controls",
      "_view_module_version": "1.5.0",
      "_view_name": "HTMLView",
      "description": "",
      "description_tooltip": null,
      "layout": "IPY_MODEL_61d3da3e2be5490e885fb194bb5ddb92",
      "placeholder": "​",
      "style": "IPY_MODEL_7c503de69b7c4133a46156652fccb511",
      "value": " 170500096/? [00:06&lt;00:00, 27730969.43it/s]"
     }
    },
    "98943dfabef748c4b8d7e05e2a914653": {
     "model_module": "@jupyter-widgets/base",
     "model_name": "LayoutModel",
     "state": {
      "_model_module": "@jupyter-widgets/base",
      "_model_module_version": "1.2.0",
      "_model_name": "LayoutModel",
      "_view_count": null,
      "_view_module": "@jupyter-widgets/base",
      "_view_module_version": "1.2.0",
      "_view_name": "LayoutView",
      "align_content": null,
      "align_items": null,
      "align_self": null,
      "border": null,
      "bottom": null,
      "display": null,
      "flex": null,
      "flex_flow": null,
      "grid_area": null,
      "grid_auto_columns": null,
      "grid_auto_flow": null,
      "grid_auto_rows": null,
      "grid_column": null,
      "grid_gap": null,
      "grid_row": null,
      "grid_template_areas": null,
      "grid_template_columns": null,
      "grid_template_rows": null,
      "height": null,
      "justify_content": null,
      "justify_items": null,
      "left": null,
      "margin": null,
      "max_height": null,
      "max_width": null,
      "min_height": null,
      "min_width": null,
      "object_fit": null,
      "object_position": null,
      "order": null,
      "overflow": null,
      "overflow_x": null,
      "overflow_y": null,
      "padding": null,
      "right": null,
      "top": null,
      "visibility": null,
      "width": null
     }
    },
    "dbc0a8815467421e944b0c4c2f7602d8": {
     "model_module": "@jupyter-widgets/controls",
     "model_name": "HBoxModel",
     "state": {
      "_dom_classes": [],
      "_model_module": "@jupyter-widgets/controls",
      "_model_module_version": "1.5.0",
      "_model_name": "HBoxModel",
      "_view_count": null,
      "_view_module": "@jupyter-widgets/controls",
      "_view_module_version": "1.5.0",
      "_view_name": "HBoxView",
      "box_style": "",
      "children": [
       "IPY_MODEL_30255b4ed2b946b7b0e3099031371f8c",
       "IPY_MODEL_8b7c9870290346f1b86a213a954fa237"
      ],
      "layout": "IPY_MODEL_1608fc26115141acbf9770e022a362b7"
     }
    },
    "e19879c71f6e43fe8132ec9ad57b6075": {
     "model_module": "@jupyter-widgets/controls",
     "model_name": "ProgressStyleModel",
     "state": {
      "_model_module": "@jupyter-widgets/controls",
      "_model_module_version": "1.5.0",
      "_model_name": "ProgressStyleModel",
      "_view_count": null,
      "_view_module": "@jupyter-widgets/base",
      "_view_module_version": "1.2.0",
      "_view_name": "StyleView",
      "bar_color": null,
      "description_width": "initial"
     }
    }
   }
  }
 },
 "nbformat": 4,
 "nbformat_minor": 1
}
