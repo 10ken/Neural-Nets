{
 "cells": [
  {
   "cell_type": "code",
   "execution_count": 1,
   "metadata": {},
   "outputs": [],
   "source": [
    "import torch\n",
    "import torch.nn as nn\n",
    "import torchvision\n",
    "import torchvision.datasets as dsets\n",
    "import torchvision.transforms as transforms\n",
    "from torch.autograd import Variable\n",
    "import numpy as np\n",
    "import matplotlib.pyplot as plt\n",
    "import torch.optim as optim"
   ]
  },
  {
   "cell_type": "code",
   "execution_count": 2,
   "metadata": {},
   "outputs": [],
   "source": [
    "# download MNIST\n",
    "train_dataset = dsets.MNIST(root='./data',\n",
    "                           train=True,\n",
    "                           transform=transforms.ToTensor(),\n",
    "                           download=True)\n",
    "\n",
    "test_dataset = dsets.MNIST(root='./data',\n",
    "                           train=False,\n",
    "                           transform=transforms.ToTensor())\n"
   ]
  },
  {
   "cell_type": "code",
   "execution_count": 3,
   "metadata": {},
   "outputs": [
    {
     "name": "stdout",
     "output_type": "stream",
     "text": [
      "5\n"
     ]
    }
   ],
   "source": [
    "batch_size = 100 #num of imgs being processed each iteration\n",
    "num_iters = 3000\n",
    "num_epochs = num_iters / (len(train_dataset)/batch_size)\n",
    "num_epochs = int(num_epochs)\n",
    "print(num_epochs)\n",
    "\n",
    "\n",
    "# Load the Data\n",
    "train_loader = torch.utils.data.DataLoader(dataset=train_dataset,\n",
    "                                          batch_size=batch_size,\n",
    "                                          shuffle=True)\n",
    "\n",
    "test_loader = torch.utils.data.DataLoader(dataset=test_dataset,\n",
    "                                          batch_size=batch_size,\n",
    "                                          shuffle=False)"
   ]
  },
  {
   "cell_type": "code",
   "execution_count": 4,
   "metadata": {},
   "outputs": [
    {
     "data": {
      "image/png": "[encoded data removed]",
      "text/plain": [
       "<Figure size 432x288 with 1 Axes>"
      ]
     },
     "metadata": {
      "needs_background": "light"
     },
     "output_type": "display_data"
    },
    {
     "data": {
      "text/plain": [
       "7"
      ]
     },
     "execution_count": 4,
     "metadata": {},
     "output_type": "execute_result"
    }
   ],
   "source": [
    "classes = [0,1,2,3,4,5,6,7,8,9]\n",
    "def imshow(img):\n",
    "    npimg = img.numpy()\n",
    "    plt.imshow(np.transpose(npimg, (1,2,0)))\n",
    "    plt.show()\n",
    "    \n",
    "# get some random training images\n",
    "dataiter = iter(train_loader)\n",
    "images, labels = dataiter.next()\n",
    "\n",
    "# show images\n",
    "imshow(torchvision.utils.make_grid(images))\n",
    "# print labels\n",
    "for i in range(batch_size):\n",
    "    classes[labels[i]]\n",
    "classes[labels[10,]]"
   ]
  },
  {
   "cell_type": "code",
   "execution_count": 5,
   "metadata": {},
   "outputs": [],
   "source": [
    "class FNN(nn.Module):\n",
    "    def __init__(self, input_size, hidden_dim, num_classes):\n",
    "        super(FNN, self).__init__()\n",
    "        self.f1 = nn.Linear(input_size, hidden_dim)\n",
    "        self.relu1 = nn.ReLU()\n",
    "        self.f2 = nn.Linear(hidden_dim, hidden_dim)\n",
    "        self.relu2 = nn.ReLU()\n",
    "        self.f3 = nn.Linear(hidden_dim, hidden_dim)\n",
    "        self.relu3 = nn.ReLU()\n",
    "        self.f4 = nn.Linear(hidden_dim, num_classes)\n",
    "        \n",
    "    def forward(self, x):\n",
    "        # 1st fully connected layer\n",
    "        x = self.f1(x)\n",
    "        x = self.relu1(x)\n",
    "        \n",
    "        # 2nd fully connected layer\n",
    "        x = self.f2(x)\n",
    "        x = self.relu2(x)\n",
    "        \n",
    "        # 3rd fully connected layer\n",
    "        x = self.f3(x)\n",
    "        x = self.relu3(x)\n",
    "        \n",
    "        x = self.f4(x)\n",
    "        return x\n",
    "    \n",
    "input_size = 28*28*1 #each photo is 28x28 & 1 in channel (B/W)\n",
    "hidden_dim = 100\n",
    "num_classes = 10 # output classes == output size\n",
    "    \n",
    "model = FNN(input_size, hidden_dim, num_classes)"
   ]
  },
  {
   "cell_type": "code",
   "execution_count": 6,
   "metadata": {},
   "outputs": [],
   "source": [
    "criterion = nn.CrossEntropyLoss()\n",
    "\n",
    "optimizer = optim.SGD(model.parameters(), lr= 0.1)"
   ]
  },
  {
   "cell_type": "code",
   "execution_count": 7,
   "metadata": {},
   "outputs": [
    {
     "name": "stdout",
     "output_type": "stream",
     "text": [
      "iter 500 | Loss: 0.3469007611274719| Train Accuracy: 90.31833333333333\n",
      "iter 1000 | Loss: 0.22694288194179535| Train Accuracy: 93.90666666666667\n",
      "iter 1500 | Loss: 0.08221956342458725| Train Accuracy: 95.77666666666667\n",
      "iter 2000 | Loss: 0.2618386745452881| Train Accuracy: 96.52666666666667\n",
      "iter 2500 | Loss: 0.14046697318553925| Train Accuracy: 96.92166666666667\n",
      "iter 3000 | Loss: 0.11073143035173416| Train Accuracy: 97.91333333333333\n"
     ]
    }
   ],
   "source": [
    "iteration = 1\n",
    "for epoch in range(num_epochs):\n",
    "    for i, (images, labels) in enumerate(train_loader):\n",
    "        images = images.view(-1,28*28).requires_grad_()\n",
    "        \n",
    "        # clear gradients\n",
    "        optimizer.zero_grad() \n",
    "        \n",
    "        # forward pass\n",
    "        outputs = model(images)\n",
    "        \n",
    "        # calculate loss\n",
    "        loss = criterion(outputs, labels)\n",
    "        \n",
    "        # get grads in wrt to params\n",
    "        loss.backward()\n",
    "        \n",
    "        # optimize and update params\n",
    "        optimizer.step()\n",
    "        \n",
    "        iteration +=1\n",
    "        \n",
    "        # report every 500 iterations\n",
    "        if iteration % 500 == 0:\n",
    "            correct = 0\n",
    "            total = 0\n",
    "            for images, labels in train_loader:\n",
    "                images = images.view(-1,28*28).requires_grad_()\n",
    "\n",
    "                #forward\n",
    "                outputs = model(images)\n",
    "                \n",
    "                _, predict = torch.max(outputs.data,1)\n",
    "                \n",
    "                # total num of images read\n",
    "                total += labels.size(0)\n",
    "                \n",
    "                # correct label predictions for imgs\n",
    "                correct += (predict == labels).sum()\n",
    "                \n",
    "            accuracy= int(correct)/int(total) *100\n",
    "            print('iter {} | Loss: {}| Train Accuracy: {}'.format(iteration,\n",
    "                                                               loss.item(),\n",
    "                                                               accuracy))"
   ]
  },
  {
   "cell_type": "code",
   "execution_count": 8,
   "metadata": {},
   "outputs": [
    {
     "name": "stdout",
     "output_type": "stream",
     "text": [
      "Validation Accuracy is  96.77\n"
     ]
    }
   ],
   "source": [
    "# Validate\n",
    "\n",
    "correct = 0\n",
    "total = 0 \n",
    "\n",
    "for images, labels in test_loader:\n",
    "    images = Variable(images.view(-1,28*28))\n",
    "    labels = Variable(labels)\n",
    "    \n",
    "    outputs = model(images)\n",
    "    \n",
    "    _, predicted = torch.max(outputs.data,1)\n",
    "    \n",
    "    # total num of imgs passed\n",
    "    total += labels.size(0)\n",
    "    # correctly labelled imgs\n",
    "    correct += (predicted==labels).sum()\n",
    "\n",
    "accuracy = int(correct) / int(total) * 100\n",
    "\n",
    "print(\"Validation Accuracy is \", accuracy)\n"
   ]
  },
  {
   "cell_type": "code",
   "execution_count": null,
   "metadata": {},
   "outputs": [],
   "source": []
  }
 ],
 "metadata": {
  "kernelspec": {
   "display_name": "Python 3",
   "language": "python",
   "name": "python3"
  },
  "language_info": {
   "codemirror_mode": {
    "name": "ipython",
    "version": 3
   },
   "file_extension": ".py",
   "mimetype": "text/x-python",
   "name": "python",
   "nbconvert_exporter": "python",
   "pygments_lexer": "ipython3",
   "version": "3.7.4"
  }
 },
 "nbformat": 4,
 "nbformat_minor": 2
}
